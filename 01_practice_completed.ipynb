{
 "cells": [
  {
   "cell_type": "markdown",
   "metadata": {},
   "source": [
    "# 갭마인더 데이터 집합 불러오기"
   ]
  },
  {
   "cell_type": "code",
   "execution_count": 3,
   "metadata": {},
   "outputs": [],
   "source": [
    "import pandas as pd #\\두 번 치지 않으면 오류 발생\n",
    "df = pd.read_csv(\"C:\\\\Users\\\\PAN\\doit_pandas\\\\data\\\\gapminder.tsv\",sep =\"\\t\")"
   ]
  },
  {
   "cell_type": "markdown",
   "metadata": {},
   "source": [
    "# 불러온 데이터 집합 살펴보기"
   ]
  },
  {
   "cell_type": "code",
   "execution_count": 14,
   "metadata": {},
   "outputs": [
    {
     "name": "stdout",
     "output_type": "stream",
     "text": [
      "       country continent  year  lifeExp       pop   gdpPercap\n",
      "0  Afghanistan      Asia  1952   28.801   8425333  779.445314\n",
      "1  Afghanistan      Asia  1957   30.332   9240934  820.853030\n",
      "2  Afghanistan      Asia  1962   31.997  10267083  853.100710\n",
      "3  Afghanistan      Asia  1967   34.020  11537966  836.197138\n",
      "4  Afghanistan      Asia  1972   36.088  13079460  739.981106\n",
      "\n",
      "<class 'pandas.core.frame.DataFrame'>\n",
      "\n",
      "(1704, 6)\n",
      "\n",
      "Index(['country', 'continent', 'year', 'lifeExp', 'pop', 'gdpPercap'], dtype='object')\n",
      "\n",
      "country       object\n",
      "continent     object\n",
      "year           int64\n",
      "lifeExp      float64\n",
      "pop            int64\n",
      "gdpPercap    float64\n",
      "dtype: object\n",
      "\n",
      "<class 'pandas.core.frame.DataFrame'>\n",
      "RangeIndex: 1704 entries, 0 to 1703\n",
      "Data columns (total 6 columns):\n",
      " #   Column     Non-Null Count  Dtype  \n",
      "---  ------     --------------  -----  \n",
      " 0   country    1704 non-null   object \n",
      " 1   continent  1704 non-null   object \n",
      " 2   year       1704 non-null   int64  \n",
      " 3   lifeExp    1704 non-null   float64\n",
      " 4   pop        1704 non-null   int64  \n",
      " 5   gdpPercap  1704 non-null   float64\n",
      "dtypes: float64(2), int64(2), object(2)\n",
      "memory usage: 80.0+ KB\n",
      "None\n",
      "\n"
     ]
    },
    {
     "data": {
      "text/plain": [
       "'\\npandas와 python은 자료형을 다르게 인식한다.\\n\\npandas        python\\nobject        string    :문자열\\nint64         int       :정수\\nfloat64       float     :실수형\\ndatetime64    datetime  :Python std-lib인 datetime이 반환하는 type \\n'"
      ]
     },
     "execution_count": 14,
     "metadata": {},
     "output_type": "execute_result"
    }
   ],
   "source": [
    "print(df.head(),end=\"\\n\\n\")  #head: 데이터프레임에서 가장 앞에 있는 5개의 행 출력\n",
    "print(type(df),end=\"\\n\\n\")   #자료형: class\n",
    "print(df.shape,end=\"\\n\\n\")  \n",
    "print(df.columns,end=\"\\n\\n\") #열이름 확인 가능\n",
    "print(df.dtypes,end=\"\\n\\n\")  #frame을 구성하는 값의 자료형(1)\n",
    "print(df.info(),end=\"\\n\\n\") #frame을 구성하는 값의 자료형(2)\n",
    "\n",
    "\"\"\"\n",
    "pandas와 python은 자료형을 다르게 인식한다.\n",
    "\n",
    "pandas        python\n",
    "object        string    :문자열\n",
    "int64         int       :정수\n",
    "float64       float     :실수형\n",
    "datetime64    datetime  :Python std-lib인 datetime이 반환하는 type \n",
    "\"\"\""
   ]
  },
  {
   "cell_type": "markdown",
   "metadata": {},
   "source": [
    "# 열 단위로 데이터 추출하기"
   ]
  },
  {
   "cell_type": "code",
   "execution_count": 18,
   "metadata": {},
   "outputs": [
    {
     "name": "stdout",
     "output_type": "stream",
     "text": [
      "<class 'pandas.core.series.Series'>\n",
      "0    Afghanistan\n",
      "1    Afghanistan\n",
      "2    Afghanistan\n",
      "3    Afghanistan\n",
      "4    Afghanistan\n",
      "Name: country, dtype: object\n",
      "\n",
      "1699    Zimbabwe\n",
      "1700    Zimbabwe\n",
      "1701    Zimbabwe\n",
      "1702    Zimbabwe\n",
      "1703    Zimbabwe\n",
      "Name: country, dtype: object\n",
      "\n",
      "<class 'pandas.core.frame.DataFrame'>\n",
      "       country continent  year\n",
      "0  Afghanistan      Asia  1952\n",
      "1  Afghanistan      Asia  1957\n",
      "2  Afghanistan      Asia  1962\n",
      "3  Afghanistan      Asia  1967\n",
      "4  Afghanistan      Asia  1972\n",
      "\n",
      "       country continent  year\n",
      "1699  Zimbabwe    Africa  1987\n",
      "1700  Zimbabwe    Africa  1992\n",
      "1701  Zimbabwe    Africa  1997\n",
      "1702  Zimbabwe    Africa  2002\n",
      "1703  Zimbabwe    Africa  2007\n",
      "\n"
     ]
    }
   ],
   "source": [
    "#열단위 데이터는 꼭 작은따옴표를 묶어서 나타내야 한다.\n",
    "\n",
    "#1열만 가져올 때 - type: Series\n",
    "country_df = df['country']\n",
    "print(type(country_df))  #1열만 가져왔으므로 자료형이 Series\n",
    "print(country_df.head(), end=\"\\n\\n\")\n",
    "print(country_df.tail(), end=\"\\n\\n\")\n",
    "\n",
    "#2열 이상일 때 - type: DataFrame\n",
    "subset = df[['country','continent','year']] #이중 list\n",
    "print(type(subset))\n",
    "print(subset.head(), end = \"\\n\\n\")\n",
    "print(subset.tail(), end = \"\\n\\n\")\n",
    "\n",
    "\"\"\"head와 tail메소드 뒤에 괄호 쓰기\"\"\""
   ]
  },
  {
   "cell_type": "markdown",
   "metadata": {},
   "source": [
    "# loc 속성으로 행 단위 데이터 추출하기"
   ]
  },
  {
   "cell_type": "code",
   "execution_count": 22,
   "metadata": {},
   "outputs": [
    {
     "name": "stdout",
     "output_type": "stream",
     "text": [
      "country      Afghanistan\n",
      "continent           Asia\n",
      "year                1952\n",
      "lifeExp           28.801\n",
      "pop              8425333\n",
      "gdpPercap        779.445\n",
      "Name: 0, dtype: object\n",
      "\n",
      "country      Zimbabwe\n",
      "continent      Africa\n",
      "year             2007\n",
      "lifeExp        43.487\n",
      "pop          12311143\n",
      "gdpPercap     469.709\n",
      "Name: 1703, dtype: object\n",
      "\n",
      "       country continent  year  lifeExp       pop   gdpPercap\n",
      "1703  Zimbabwe    Africa  2007   43.487  12311143  469.709298\n",
      "\n",
      "        country continent  year  lifeExp       pop     gdpPercap\n",
      "0   Afghanistan      Asia  1952   28.801   8425333    779.445314\n",
      "66    Australia   Oceania  1982   74.740  15184200  19477.009280\n",
      "55    Argentina  Americas  1987   70.774  31620918   9139.671389\n",
      "\n"
     ]
    }
   ],
   "source": [
    "print(df.loc[0],end=\"\\n\\n\")\n",
    "print(df.loc[1703],end =\"\\n\\n\")\n",
    "\"\"\"\n",
    "또는,\n",
    "number_of_rows = df.shape[0]\n",
    "last_row_index = number_of_rows - 1\n",
    "print(df.loc[last_row_index])\n",
    "\"\"\"\n",
    "print(df.tail(n=1),end=\"\\n\\n\")\n",
    "print(df.loc[[0,66,55]],end=\"\\n\\n\") #이중리스트로 꼭 작성"
   ]
  },
  {
   "cell_type": "markdown",
   "metadata": {},
   "source": [
    "# tail과 loc는 조금 달라요!"
   ]
  },
  {
   "cell_type": "code",
   "execution_count": 23,
   "metadata": {},
   "outputs": [
    {
     "name": "stdout",
     "output_type": "stream",
     "text": [
      "<class 'pandas.core.series.Series'>\n",
      "<class 'pandas.core.frame.DataFrame'>\n"
     ]
    }
   ],
   "source": [
    "subset_loc = df.loc[0]\n",
    "subset_tail = df.tail(n=1)\n",
    "\n",
    "print(type(subset_loc))   #Series\n",
    "print(type(subset_tail))  #DataFrame"
   ]
  },
  {
   "cell_type": "markdown",
   "metadata": {},
   "source": [
    "# iloc 속성으로 행 단위 데이터 추출하기"
   ]
  },
  {
   "cell_type": "code",
   "execution_count": 25,
   "metadata": {},
   "outputs": [
    {
     "name": "stdout",
     "output_type": "stream",
     "text": [
      "country      Afghanistan\n",
      "continent           Asia\n",
      "year                1952\n",
      "lifeExp           28.801\n",
      "pop              8425333\n",
      "gdpPercap        779.445\n",
      "Name: 0, dtype: object\n",
      "\n",
      "country      Zimbabwe\n",
      "continent      Africa\n",
      "year             2007\n",
      "lifeExp        43.487\n",
      "pop          12311143\n",
      "gdpPercap     469.709\n",
      "Name: 1703, dtype: object\n",
      "\n",
      "          country continent  year  lifeExp       pop   gdpPercap\n",
      "1703     Zimbabwe    Africa  2007   43.487  12311143  469.709298\n",
      "1703     Zimbabwe    Africa  2007   43.487  12311143  469.709298\n",
      "1699     Zimbabwe    Africa  1987   62.351   9216418  706.157306\n",
      "10    Afghanistan      Asia  2002   42.129  25268405  726.734055\n"
     ]
    }
   ],
   "source": [
    "#iloc는 데이터 순서를 의미하는 행 번호를 출력(현 상황에서는 인덱스 번호와 동일)\n",
    "print(df.iloc[0] ,end=\"\\n\\n\")\n",
    "print(df.iloc[-1],end=\"\\n\\n\") #음수로도 출력가능 - 뒤에서부터\n",
    "\n",
    "print(df.iloc[[-1,1703,-5,10]])\n",
    "\n",
    "\"\"\"loc[[행],[열]] , iloc[[행],[열]]\"\"\""
   ]
  },
  {
   "cell_type": "markdown",
   "metadata": {},
   "source": [
    "# 파이썬 슬라이싱 구문을 조합하여 원하는 데이터 추출하기"
   ]
  },
  {
   "cell_type": "code",
   "execution_count": 39,
   "metadata": {},
   "outputs": [
    {
     "name": "stdout",
     "output_type": "stream",
     "text": [
      "      year       pop\n",
      "1701  1997  11404948\n",
      "1702  2002  11926563\n",
      "1703  2007  12311143\n",
      "******************************\n",
      "       country continent  year  lifeExp\n",
      "0  Afghanistan      Asia  1952   28.801\n",
      "1  Afghanistan      Asia  1957   30.332\n",
      "2  Afghanistan      Asia  1962   31.997\n",
      "3  Afghanistan      Asia  1967   34.020\n",
      "******************************\n",
      "       country  year       pop\n",
      "0  Afghanistan  1952   8425333\n",
      "2  Afghanistan  1962  10267083\n",
      "4  Afghanistan  1972  13079460\n"
     ]
    }
   ],
   "source": [
    "subset = df.loc[:,['year', 'pop']]\n",
    "print(subset.tail(n=3))\n",
    "\n",
    "print(\"*\"*30)\n",
    "\n",
    "o_subset = df.iloc[:4,:-2]\n",
    "print(o_subset)\n",
    "\n",
    "print(\"*\"*30)\n",
    "an_subset = df.iloc[:6:2, 0:5:2]\n",
    "print(an_subset)"
   ]
  },
  {
   "cell_type": "markdown",
   "metadata": {},
   "source": [
    "# iloc 속성과 range 메서드로 원하는 데이터 추출하기"
   ]
  },
  {
   "cell_type": "code",
   "execution_count": 51,
   "metadata": {},
   "outputs": [
    {
     "name": "stdout",
     "output_type": "stream",
     "text": [
      "[0, 1, 2, 3, 4]\n",
      "\n",
      "       country continent  year  lifeExp       pop\n",
      "0  Afghanistan      Asia  1952   28.801   8425333\n",
      "1  Afghanistan      Asia  1957   30.332   9240934\n",
      "2  Afghanistan      Asia  1962   31.997  10267083\n",
      "3  Afghanistan      Asia  1967   34.020  11537966\n",
      "4  Afghanistan      Asia  1972   36.088  13079460\n",
      "5  Afghanistan      Asia  1977   38.438  14880372\n",
      "6  Afghanistan      Asia  1982   39.854  12881816\n",
      "7  Afghanistan      Asia  1987   40.822  13867957\n",
      "8  Afghanistan      Asia  1992   41.674  16317921\n",
      "9  Afghanistan      Asia  1997   41.763  22227415\n",
      "\n",
      "       country  year       pop\n",
      "1701  Zimbabwe  1997  11404948\n",
      "1702  Zimbabwe  2002  11926563\n",
      "1703  Zimbabwe  2007  12311143\n"
     ]
    }
   ],
   "source": [
    "small_range = list(range(5))\n",
    "print(small_range,end=\"\\n\\n\")\n",
    "\n",
    "subset = df.iloc[:,small_range]\n",
    "print(subset.head(n=10),end=\"\\n\\n\")\n",
    "\n",
    "subset = df.iloc[ : ,range(0,6,2)]\n",
    "print(subset.tail(n=3))"
   ]
  },
  {
   "cell_type": "markdown",
   "metadata": {},
   "source": [
    "# 열 지정값에 파이썬 슬라이싱을 사용하여 원하는 데이터 추출하기"
   ]
  },
  {
   "cell_type": "code",
   "execution_count": null,
   "metadata": {},
   "outputs": [],
   "source": []
  },
  {
   "cell_type": "markdown",
   "metadata": {},
   "source": [
    "# loc, iloc 자유자재로 사용하기"
   ]
  },
  {
   "cell_type": "code",
   "execution_count": 29,
   "metadata": {},
   "outputs": [
    {
     "name": "stdout",
     "output_type": "stream",
     "text": [
      "         country   gdpPercap  lifeExp\n",
      "1    Afghanistan  820.853030   30.332\n",
      "10   Afghanistan  726.734055   42.129\n",
      "100   Bangladesh  630.233627   45.252\n",
      "        country  lifeExp    gdpPercap\n",
      "10  Afghanistan   42.129   726.734055\n",
      "11  Afghanistan   43.828   974.580338\n",
      "12      Albania   55.230  1601.056136\n",
      "13      Albania   59.280  1942.284244\n"
     ]
    }
   ],
   "source": [
    "print(df.loc[[1,10,100],['country','gdpPercap','lifeExp']])\n",
    "print(df.loc[10:13, ['country','lifeExp','gdpPercap']]) #슬라이싱"
   ]
  },
  {
   "cell_type": "markdown",
   "metadata": {},
   "source": [
    "# 그룹화한 데이터의 평균 구하기"
   ]
  },
  {
   "cell_type": "code",
   "execution_count": 60,
   "metadata": {},
   "outputs": [
    {
     "name": "stdout",
     "output_type": "stream",
     "text": [
      "       country continent  year  lifeExp       pop   gdpPercap\n",
      "0  Afghanistan      Asia  1952   28.801   8425333  779.445314\n",
      "1  Afghanistan      Asia  1957   30.332   9240934  820.853030\n",
      "2  Afghanistan      Asia  1962   31.997  10267083  853.100710\n",
      "3  Afghanistan      Asia  1967   34.020  11537966  836.197138\n",
      "4  Afghanistan      Asia  1972   36.088  13079460  739.981106\n",
      "5  Afghanistan      Asia  1977   38.438  14880372  786.113360\n",
      "6  Afghanistan      Asia  1982   39.854  12881816  978.011439\n",
      "7  Afghanistan      Asia  1987   40.822  13867957  852.395945\n",
      "8  Afghanistan      Asia  1992   41.674  16317921  649.341395\n",
      "9  Afghanistan      Asia  1997   41.763  22227415  635.341351\n",
      "**********************************************************************\n",
      "year\n",
      "1952    49.057620\n",
      "1957    51.507401\n",
      "1962    53.609249\n",
      "1967    55.678290\n",
      "1972    57.647386\n",
      "1977    59.570157\n",
      "1982    61.533197\n",
      "1987    63.212613\n",
      "1992    64.160338\n",
      "1997    65.014676\n",
      "2002    65.694923\n",
      "2007    67.007423\n",
      "Name: lifeExp, dtype: float64\n",
      "**********************************************************************\n",
      "<class 'pandas.core.groupby.generic.DataFrameGroupBy'>\n",
      "<class 'pandas.core.groupby.generic.SeriesGroupBy'>\n",
      "<pandas.core.groupby.generic.DataFrameGroupBy object at 0x000001DDA6851E08>\n",
      "<pandas.core.groupby.generic.SeriesGroupBy object at 0x000001DDA6851D88>\n",
      "\n",
      "\n",
      "\n",
      "\n",
      "\n",
      "                         lifeExp    gdpPercap\n",
      "year country                                 \n",
      "1952 Afghanistan          28.801   779.445314\n",
      "     Albania              55.230  1601.056136\n",
      "     Algeria              43.077  2449.008185\n",
      "     Angola               30.015  3520.610273\n",
      "     Argentina            62.485  5911.315053\n",
      "...                          ...          ...\n",
      "2007 Vietnam              74.249  2441.576404\n",
      "     West Bank and Gaza   73.422  3025.349798\n",
      "     Yemen, Rep.          62.698  2280.769906\n",
      "     Zambia               42.384  1271.211593\n",
      "     Zimbabwe             43.487   469.709298\n",
      "\n",
      "[1704 rows x 2 columns]\n"
     ]
    }
   ],
   "source": [
    "print(df.head(n=10))\n",
    "print(\"*\"*70)\n",
    "\n",
    "print(df.groupby('year')['lifeExp'].mean()) #mean메소드는 평균을 구함\n",
    "print(\"*\"*70)\n",
    "\n",
    "groupby_year_df = df.groupby('year')\n",
    "groupby_year_lifeExp = groupby_year_df['lifeExp']\n",
    "print(type(groupby_year_df))  #DataFrame Group by\n",
    "        #연도별로 country, continent 등을 그룹화\n",
    "print(type(groupby_year_lifeExp)) #Series Group by\n",
    "        #각각의 있는 lifeExp를 그룹화\n",
    "print(groupby_year_df)\n",
    "print(groupby_year_lifeExp)\n",
    "print(\"\\n\\n\\n\\n\")\n",
    "\"\"\"\n",
    "groupby\n",
    "\"\"\"\n",
    "multi_group_var = df.groupby(['year', 'country'])[['lifeExp','gdpPercap']].mean()\n",
    "print(multi_group_var)"
   ]
  },
  {
   "cell_type": "markdown",
   "metadata": {},
   "source": [
    "# 그룹화한 데이터의 개수 세어보기"
   ]
  },
  {
   "cell_type": "code",
   "execution_count": 69,
   "metadata": {},
   "outputs": [
    {
     "name": "stdout",
     "output_type": "stream",
     "text": [
      "continent\n",
      "Africa      52\n",
      "Americas    25\n",
      "Asia        33\n",
      "Europe      30\n",
      "Oceania      2\n",
      "Name: country, dtype: int64\n"
     ]
    }
   ],
   "source": [
    "grouped_data = df.groupby('continent')['country'].nunique()\n",
    "print(grouped_data)"
   ]
  },
  {
   "cell_type": "markdown",
   "metadata": {},
   "source": [
    "# 그래프 만들기"
   ]
  },
  {
   "cell_type": "code",
   "execution_count": 74,
   "metadata": {},
   "outputs": [
    {
     "name": "stdout",
     "output_type": "stream",
     "text": [
      "year\n",
      "1952     3725.276046\n",
      "1957     4299.408345\n",
      "1962     4725.812342\n",
      "1967     5483.653047\n",
      "1972     6770.082815\n",
      "1977     7313.166421\n",
      "1982     7518.901673\n",
      "1987     7900.920218\n",
      "1992     8158.608521\n",
      "1997     9090.175363\n",
      "2002     9917.848365\n",
      "2007    11680.071820\n",
      "Name: gdpPercap, dtype: float64\n"
     ]
    },
    {
     "data": {
      "text/plain": [
       "<matplotlib.axes._subplots.AxesSubplot at 0x1dda7c2d608>"
      ]
     },
     "execution_count": 74,
     "metadata": {},
     "output_type": "execute_result"
    },
    {
     "data": {
      "image/png": "[encoded data removed]",
      "text/plain": [
       "<Figure size 432x288 with 1 Axes>"
      ]
     },
     "metadata": {
      "needs_background": "light"
     },
     "output_type": "display_data"
    }
   ],
   "source": [
    "import matplotlib.pyplot as plt\n",
    "\n",
    "each_year_lifeExp = df.groupby('year')['gdpPercap'].mean()\n",
    "print(each_year_lifeExp)\n",
    "\n",
    "each_year_lifeExp.plot()"
   ]
  },
  {
   "cell_type": "code",
   "execution_count": null,
   "metadata": {},
   "outputs": [],
   "source": []
  }
 ],
 "metadata": {
  "kernelspec": {
   "display_name": "Python 3",
   "language": "python",
   "name": "python3"
  },
  "language_info": {
   "codemirror_mode": {
    "name": "ipython",
    "version": 3
   },
   "file_extension": ".py",
   "mimetype": "text/x-python",
   "name": "python",
   "nbconvert_exporter": "python",
   "pygments_lexer": "ipython3",
   "version": "3.7.6"
  }
 },
 "nbformat": 4,
 "nbformat_minor": 2
}
